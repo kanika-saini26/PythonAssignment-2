{
  "nbformat": 4,
  "nbformat_minor": 0,
  "metadata": {
    "colab": {
      "provenance": []
    },
    "kernelspec": {
      "name": "python3",
      "display_name": "Python 3"
    },
    "language_info": {
      "name": "python"
    }
  },
  "cells": [
    {
      "cell_type": "markdown",
      "source": [
        "#Theory Questions\n"
      ],
      "metadata": {
        "id": "7HDzKbnMbq2D"
      }
    },
    {
      "cell_type": "markdown",
      "source": [
        "1. What is the difference between a function and a method in python?\n",
        "   - Difference between a function and a method in Python -\n",
        "\n",
        "*   Function: A block of reusable code that performs a task. It can be defined using def and is not tied to an object.\n",
        "*   Method: A function that belongs to an object (defined inside a class) and can access/modify object’s data.\n",
        "\n",
        "Example-\n",
        "\n",
        "\n",
        "  \n",
        "\n",
        "\n",
        "\n"
      ],
      "metadata": {
        "id": "d3k8yQM1b0FN"
      }
    },
    {
      "cell_type": "code",
      "source": [
        "# Function\n",
        "def add(a, b):\n",
        "    return a + b\n",
        "\n",
        "print(add(3, 5))  # 8\n",
        "\n",
        "# Method (inside a class)\n",
        "class Calculator:\n",
        "    def multiply(self, a, b):\n",
        "        return a * b\n",
        "\n",
        "calc = Calculator()\n",
        "print(calc.multiply(3, 5))  # 15\n"
      ],
      "metadata": {
        "id": "3s3vxXL4f6UH"
      },
      "execution_count": null,
      "outputs": []
    },
    {
      "cell_type": "markdown",
      "source": [
        "2. Explain the concept of function arguments and parameters in python?\n",
        "   - Function arguments and parameters-\n",
        "\n",
        "*   Parameter: Variable listed in the function definition.\n",
        "*   Argument: The actual value passed when calling the function.\n",
        "\n",
        "Example-\n",
        "\n"
      ],
      "metadata": {
        "id": "xbo3Q_h8f_21"
      }
    },
    {
      "cell_type": "code",
      "source": [
        "def greet(name):  # name = parameter\n",
        "    print(\"Hello\", name)\n",
        "\n",
        "greet(\"Kanika\")   # \"Kanika\" = argument\n"
      ],
      "metadata": {
        "colab": {
          "base_uri": "https://localhost:8080/"
        },
        "id": "327V5Gekg9sc",
        "outputId": "f0a40397-dd1a-4fb5-c5d1-e1ba3b7d603e"
      },
      "execution_count": null,
      "outputs": [
        {
          "output_type": "stream",
          "name": "stdout",
          "text": [
            "Hello Kanika\n"
          ]
        }
      ]
    },
    {
      "cell_type": "markdown",
      "source": [
        "3. What are the different whys to define and call a function in python?\n",
        "   - Different ways to define and call a function\n",
        "\n",
        "*   **Normal function**\n",
        "\n"
      ],
      "metadata": {
        "id": "O6DRwNgWhBLW"
      }
    },
    {
      "cell_type": "code",
      "source": [
        "def square(x):\n",
        "    return x*x\n",
        "print(square(4))\n"
      ],
      "metadata": {
        "colab": {
          "base_uri": "https://localhost:8080/"
        },
        "id": "O_XyNQTch61g",
        "outputId": "a1fa65c0-37bd-41d7-d56d-d01de7d604a8"
      },
      "execution_count": null,
      "outputs": [
        {
          "output_type": "stream",
          "name": "stdout",
          "text": [
            "16\n"
          ]
        }
      ]
    },
    {
      "cell_type": "markdown",
      "source": [
        "\n",
        "\n",
        "*   **Lambda Fuction**\n",
        "\n"
      ],
      "metadata": {
        "id": "I7dB6GSsh--r"
      }
    },
    {
      "cell_type": "code",
      "source": [
        "square = lambda x: x*x\n",
        "print(square(4))\n"
      ],
      "metadata": {
        "colab": {
          "base_uri": "https://localhost:8080/"
        },
        "id": "OAKemRptiM7d",
        "outputId": "d8bda561-e597-484e-e0dc-8f3a1c9969c4"
      },
      "execution_count": null,
      "outputs": [
        {
          "output_type": "stream",
          "name": "stdout",
          "text": [
            "16\n"
          ]
        }
      ]
    },
    {
      "cell_type": "markdown",
      "source": [
        "\n",
        "\n",
        "*   **Using**` def `**with default arguments**\n"
      ],
      "metadata": {
        "id": "SRhdN1XRij_N"
      }
    },
    {
      "cell_type": "code",
      "source": [
        "def greet(name=\"Guest\"):\n",
        "    return \"Hello \" + name\n",
        "\n",
        "print(greet())       # Hello Guest\n",
        "print(greet(\"Amit\")) # Hello Amit\n"
      ],
      "metadata": {
        "id": "AQ0ZfmPUi8Op"
      },
      "execution_count": null,
      "outputs": []
    },
    {
      "cell_type": "markdown",
      "source": [
        "4. What is the purpose of the 'return' statement in a python function?\n",
        "   - It is used to send back a value from a function to the caller. Without return, the function returns None.\n",
        "\n",
        "   Example-\n",
        "   "
      ],
      "metadata": {
        "id": "nYOzhGxJi_y5"
      }
    },
    {
      "cell_type": "code",
      "source": [
        "def add(a, b):\n",
        "    return a + b\n",
        "\n",
        "print(add(5, 10))  # 15\n"
      ],
      "metadata": {
        "id": "wlmpcmE9kET-"
      },
      "execution_count": null,
      "outputs": []
    },
    {
      "cell_type": "markdown",
      "source": [
        "5. What are iterators in python and how do they differ from iterables?\n",
        "   - Iterators vs Iterables\n",
        "\n",
        "*   **Iterables:** Any object that can return an iterator (list, tuple, string).\n",
        "*     Iterators: An object with __next__() method that gives next item.\n",
        "\n",
        "Example-\n",
        "\n"
      ],
      "metadata": {
        "id": "YoGYYf8bkFqw"
      }
    },
    {
      "cell_type": "code",
      "source": [
        "nums = [1, 2, 3]  # Iterable\n",
        "it = iter(nums)   # Iterator\n",
        "\n",
        "print(next(it))  # 1\n",
        "print(next(it))  # 2\n"
      ],
      "metadata": {
        "colab": {
          "base_uri": "https://localhost:8080/"
        },
        "id": "T5pU--lqqiP8",
        "outputId": "b7990542-dd38-4e0f-9356-af7b6b758b57"
      },
      "execution_count": null,
      "outputs": [
        {
          "output_type": "stream",
          "name": "stdout",
          "text": [
            "1\n",
            "2\n"
          ]
        }
      ]
    },
    {
      "cell_type": "markdown",
      "source": [
        "6. Explain the concept of generators in python and how they are defined.\n",
        "  - Generators in Python\n",
        "\n",
        "*   Special functions that use `yield` instead of `return.`\n",
        "*   They generate values one at a time and save memory.\n",
        "\n",
        "Example-\n",
        "\n",
        "\n",
        "\n"
      ],
      "metadata": {
        "id": "Eg5HioHqrP7L"
      }
    },
    {
      "cell_type": "code",
      "source": [
        "def gen_numbers():\n",
        "    for i in range(3):\n",
        "        yield i\n",
        "\n",
        "for num in gen_numbers():\n",
        "    print(num)   # 0,1,2\n"
      ],
      "metadata": {
        "colab": {
          "base_uri": "https://localhost:8080/"
        },
        "id": "rEibMoPdsKFY",
        "outputId": "38580a27-630f-4eb7-cade-3668e16fb993"
      },
      "execution_count": null,
      "outputs": [
        {
          "output_type": "stream",
          "name": "stdout",
          "text": [
            "0\n",
            "1\n",
            "2\n"
          ]
        }
      ]
    },
    {
      "cell_type": "markdown",
      "source": [
        "7. What are the advantages of using generators in python and how they are defined.\n",
        "*   Save memory (lazy evaluation).\n",
        "*   Efficient for large datasets.\n",
        "\n",
        "*   Maintain state between iterations.\n",
        "\n",
        "8. What is a lambda function in python and when is it typically used?\n",
        "   - Lambda Function\n",
        "\n",
        "*   Anonymous (nameless) function defined with lambda keyword.\n",
        "*   Typically used for short, simple operations.\n",
        "\n",
        "Example-\n",
        "\n",
        "\n",
        "\n",
        "\n",
        "\n",
        "\n",
        "\n",
        "\n",
        "\n",
        "\n",
        "\n"
      ],
      "metadata": {
        "id": "Tokoz2POsMiE"
      }
    },
    {
      "cell_type": "code",
      "source": [
        "square = lambda x: x**2\n",
        "print(square(5))  # 25\n"
      ],
      "metadata": {
        "id": "kTqqVeeWt232"
      },
      "execution_count": null,
      "outputs": []
    },
    {
      "cell_type": "markdown",
      "source": [
        "9. explain the purpose and usage of the 'map()' function in python.\n",
        "   - The map() function in Python is used to apply a function to every item of an iterable (like a list, tuple, or string) and return a new map object (which is an iterator).\n",
        "   \n",
        "   **Purpose**\n",
        "\n",
        "*   To transform or process each element of a sequence without writing explicit loops.\n",
        "*   Makes code cleaner and more concise, especially for bulk operations.\n",
        "\n",
        "**Usage Examples**\n",
        "\n",
        "\n",
        "*   **Using a built-in function:-**\n",
        "\n",
        "\n",
        "\n",
        "\n",
        "\n",
        "\n",
        "\n"
      ],
      "metadata": {
        "id": "_xANgeM5t6kV"
      }
    },
    {
      "cell_type": "code",
      "source": [
        "numbers = [1, 2, 3, 4, 5]\n",
        "squares = map(pow, numbers, [2]*len(numbers))  # raises each to power 2\n",
        "print(list(squares))  # [1, 4, 9, 16, 25]\n"
      ],
      "metadata": {
        "id": "4X8usc6Fw6v4"
      },
      "execution_count": null,
      "outputs": []
    },
    {
      "cell_type": "markdown",
      "source": [
        "\n",
        "\n",
        "*   **Using a user-defined function:-**\n",
        "\n"
      ],
      "metadata": {
        "id": "o_sfLvMqw-ve"
      }
    },
    {
      "cell_type": "code",
      "source": [
        "def double(x):\n",
        "    return x * 2\n",
        "\n",
        "nums = [10, 20, 30]\n",
        "result = map(double, nums)\n",
        "print(list(result))  # [20, 40, 60]\n"
      ],
      "metadata": {
        "id": "s2Dhy1ioxKl-"
      },
      "execution_count": null,
      "outputs": []
    },
    {
      "cell_type": "markdown",
      "source": [
        "\n",
        "\n",
        "*   **Using lambda function:-**\n",
        "\n"
      ],
      "metadata": {
        "id": "MxqKlT3jxP0q"
      }
    },
    {
      "cell_type": "code",
      "source": [
        "nums = [1, 2, 3, 4, 5]\n",
        "squared = map(lambda x: x**2, nums)\n",
        "print(list(squared))  # [1, 4, 9, 16, 25]\n"
      ],
      "metadata": {
        "id": "GlUqETVGxaap"
      },
      "execution_count": null,
      "outputs": []
    },
    {
      "cell_type": "markdown",
      "source": [
        "\n",
        "\n",
        "*   **Mapping multiple iterables:-**\n",
        "\n",
        "\n"
      ],
      "metadata": {
        "id": "PEwDxKE3xvV4"
      }
    },
    {
      "cell_type": "code",
      "source": [
        "a = [1, 2, 3]\n",
        "b = [4, 5, 6]\n",
        "sum_list = map(lambda x, y: x + y, a, b)\n",
        "print(list(sum_list))  # [5, 7, 9]\n"
      ],
      "metadata": {
        "id": "_xOieCHpx1DI"
      },
      "execution_count": null,
      "outputs": []
    },
    {
      "cell_type": "markdown",
      "source": [
        "10. What is the difference between 'map()', 'reduce()', and 'filter()' functions in python?\n",
        "    -\n",
        "\n",
        "1).   **Map()**\n",
        "  \n",
        "  Applies a function to each element of an **iterable**.\n",
        "\n",
        "*   **Input:** Function + Iterable(s)\n",
        "*   **Output:** New iterable with transformed elements\n",
        "\n",
        "**Example -**\n",
        "\n"
      ],
      "metadata": {
        "id": "f2c7cJfxx5EJ"
      }
    },
    {
      "cell_type": "code",
      "source": [
        "nums = [1, 2, 3, 4]\n",
        "squares = list(map(lambda x: x**2, nums))\n",
        "print(squares)   # [1, 4, 9, 16]\n"
      ],
      "metadata": {
        "id": "jUWEXZ4m0wPS"
      },
      "execution_count": null,
      "outputs": []
    },
    {
      "cell_type": "markdown",
      "source": [
        "2). filter()\n",
        "\n",
        " Filters elements from an iterable based on a condition (Boolean function).\n",
        "\n",
        "*   Input: Function (must return True/False) + Iterable\n",
        "*   Output: New iterable containing only elements where function returned True\n",
        "\n",
        "**Example-**\n",
        "\n"
      ],
      "metadata": {
        "id": "Dg0HVAl41dav"
      }
    },
    {
      "cell_type": "code",
      "source": [
        "nums = [1, 2, 3, 4, 5, 6]\n",
        "evens = list(filter(lambda x: x % 2 == 0, nums))\n",
        "print(evens)   # [2, 4, 6]\n"
      ],
      "metadata": {
        "colab": {
          "base_uri": "https://localhost:8080/"
        },
        "id": "XgoTA8PH2E0h",
        "outputId": "cf9842c5-a7d8-447a-920c-a483fa264ddf"
      },
      "execution_count": null,
      "outputs": [
        {
          "output_type": "stream",
          "name": "stdout",
          "text": [
            "[2, 4, 6]\n"
          ]
        }
      ]
    },
    {
      "cell_type": "markdown",
      "source": [
        "3). Reduce()\n",
        "\n",
        "   Repeatedly applies a function to the elements of an iterable, reducing it to a single cumulative value.\n",
        "\n",
        "*   **Input:** Function (with two arguments) + Iterable\n",
        "*   **Output:** A single value\n",
        "\n",
        "*   Requires from functools import reduce\n",
        "\n",
        "**Example-**\n",
        "\n",
        "\n",
        "\n",
        "\n",
        "\n"
      ],
      "metadata": {
        "id": "u7V2w9Ug63uP"
      }
    },
    {
      "cell_type": "code",
      "source": [
        "from functools import reduce\n",
        "\n",
        "nums = [1, 2, 3, 4]\n",
        "product = reduce(lambda x, y: x * y, nums)\n",
        "print(product)   # 24  (1*2*3*4)\n"
      ],
      "metadata": {
        "id": "WW0csEhm72lj"
      },
      "execution_count": null,
      "outputs": []
    },
    {
      "cell_type": "markdown",
      "source": [
        "11. Using pen & paper write the internal mechanism for sum operation using reduce function on this given list:[47,11,42,13];"
      ],
      "metadata": {
        "id": "5yCbd_F08Dd5"
      }
    },
    {
      "cell_type": "markdown",
      "source": [
        "https://drive.google.com/file/d/167VFThWp4QJXZyIpJBEuKnZcUaO-RNx8/view?usp=drivesdk"
      ],
      "metadata": {
        "id": "gKzT4l1Y2Cmf"
      }
    },
    {
      "cell_type": "markdown",
      "source": [
        "#Practical Questions"
      ],
      "metadata": {
        "id": "gjixe4ot8u1m"
      }
    },
    {
      "cell_type": "markdown",
      "source": [
        "1. Write a python function that takes a list of numbers as input and returns the sum of all even numbers in the list."
      ],
      "metadata": {
        "id": "gtknbobO85sI"
      }
    },
    {
      "cell_type": "code",
      "source": [
        "def sum_even_numbers(numbers):\n",
        "  \"\"\"Calculates the sum of all even numbers in a list.\"\"\"\n",
        "  total = 0\n",
        "  for num in numbers:\n",
        "    if num % 2 == 0:  # Check if the number is even\n",
        "      total += num\n",
        "  return total\n",
        "\n",
        "# Example usage:\n",
        "my_list = [1, 2, 3, 4, 5, 6, 7, 8, 9, 10]\n",
        "result = sum_even_numbers(my_list)\n",
        "print(f\"List: {my_list}\")\n",
        "print(f\"Sum of even numbers: {result}\") # Output: 30"
      ],
      "metadata": {
        "colab": {
          "base_uri": "https://localhost:8080/"
        },
        "id": "wz4WhvEQ9zzy",
        "outputId": "211a7e55-2e30-4e1e-b77f-0c4d37df4fd2"
      },
      "execution_count": null,
      "outputs": [
        {
          "output_type": "stream",
          "name": "stdout",
          "text": [
            "List: [1, 2, 3, 4, 5, 6, 7, 8, 9, 10]\n",
            "Sum of even numbers: 30\n"
          ]
        }
      ]
    },
    {
      "cell_type": "markdown",
      "source": [
        "2. Create a Python function that accepts a string and returns the reverse of that string."
      ],
      "metadata": {
        "id": "kpUHt0fq91Wh"
      }
    },
    {
      "cell_type": "code",
      "source": [
        "def reverse_string(s):\n",
        "  \"\"\"Returns the reverse of the input string.\"\"\"\n",
        "  # Using slicing [::-1] is the most concise way to reverse a string in Python\n",
        "  return s[::-1]\n",
        "\n",
        "# Example usage:\n",
        "my_string = \"hello world\"\n",
        "reversed_s = reverse_string(my_string)\n",
        "print(f\"Original: '{my_string}'\")\n",
        "print(f\"Reversed: '{reversed_s}'\") # Output: 'dlrow olleh'"
      ],
      "metadata": {
        "colab": {
          "base_uri": "https://localhost:8080/"
        },
        "id": "StJhvjrh99CN",
        "outputId": "9e9f461c-b6bf-48be-90cc-9036bafb8ad6"
      },
      "execution_count": null,
      "outputs": [
        {
          "output_type": "stream",
          "name": "stdout",
          "text": [
            "Original: 'hello world'\n",
            "Reversed: 'dlrow olleh'\n"
          ]
        }
      ]
    },
    {
      "cell_type": "markdown",
      "source": [
        "3.  Implement a Python function that takes a list of integers and returns a new list containing the squares of each number."
      ],
      "metadata": {
        "id": "8wpyrzX6-QuN"
      }
    },
    {
      "cell_type": "code",
      "source": [
        "def list_of_squares(integers):\n",
        "  \"\"\"Returns a new list with the square of each integer in the input list.\"\"\"\n",
        "  # Using a list comprehension is the most 'Pythonic' way to do this\n",
        "  return [num ** 2 for num in integers]\n",
        "\n",
        "# Example usage:\n",
        "int_list = [1, 2, 3, 4, 5]\n",
        "squares = list_of_squares(int_list)\n",
        "print(f\"Integers: {int_list}\")\n",
        "print(f\"Squares: {squares}\") # Output: [1, 4, 9, 16, 25]"
      ],
      "metadata": {
        "colab": {
          "base_uri": "https://localhost:8080/"
        },
        "id": "hm1qvwYw-TJb",
        "outputId": "c0c28b9f-b9d1-48c7-e830-3656e83c60f9"
      },
      "execution_count": null,
      "outputs": [
        {
          "output_type": "stream",
          "name": "stdout",
          "text": [
            "Integers: [1, 2, 3, 4, 5]\n",
            "Squares: [1, 4, 9, 16, 25]\n"
          ]
        }
      ]
    },
    {
      "cell_type": "markdown",
      "source": [
        "4. Write a Python function that checks if a given number is prime or not prime from 1 to 200."
      ],
      "metadata": {
        "id": "mtKaTsR2-Wa-"
      }
    },
    {
      "cell_type": "code",
      "source": [
        "def is_prime(number):\n",
        "  \"\"\"Checks if a number is prime.\"\"\"\n",
        "  if number <= 1:\n",
        "    return False # 0 and 1 are not prime\n",
        "\n",
        "  # Check for factors from 2 up to the square root of the number\n",
        "  i = 2\n",
        "  while i * i <= number:\n",
        "    if number % i == 0:\n",
        "      return False # Found a factor, so it's not prime\n",
        "    i += 1\n",
        "  return True # No factors found, so it is prime\n",
        "\n",
        "# Example usage (checking a number between 1 and 200):\n",
        "num1 = 17\n",
        "num2 = 18\n",
        "print(f\"{num1} is prime: {is_prime(num1)}\") # Output: True\n",
        "print(f\"{num2} is prime: {is_prime(num2)}\") # Output: False"
      ],
      "metadata": {
        "colab": {
          "base_uri": "https://localhost:8080/"
        },
        "id": "ZBu3fotw-jYF",
        "outputId": "89cf362c-2396-4d5e-bd1b-25ca57dbfa03"
      },
      "execution_count": null,
      "outputs": [
        {
          "output_type": "stream",
          "name": "stdout",
          "text": [
            "17 is prime: True\n",
            "18 is prime: False\n"
          ]
        }
      ]
    },
    {
      "cell_type": "markdown",
      "source": [
        "5.  Create an iterator class in Python that generates the Fibonacci sequence up to a specified number of terms."
      ],
      "metadata": {
        "id": "zp4q9XAg-wif"
      }
    },
    {
      "cell_type": "code",
      "source": [
        "class FibonacciIterator:\n",
        "  \"\"\"An iterator that generates the Fibonacci sequence up to 'max_terms'.\"\"\"\n",
        "\n",
        "  def __init__(self, max_terms):\n",
        "    self.max_terms = max_terms\n",
        "    self.current_term = 0\n",
        "    self.a = 0 # First Fibonacci number\n",
        "    self.b = 1 # Second Fibonacci number\n",
        "\n",
        "  def __iter__(self):\n",
        "    return self\n",
        "\n",
        "  def __next__(self):\n",
        "    if self.current_term >= self.max_terms:\n",
        "      raise StopIteration # Stop condition\n",
        "\n",
        "    if self.current_term == 0:\n",
        "      self.current_term += 1\n",
        "      return self.a # Returns 0\n",
        "\n",
        "    if self.current_term == 1:\n",
        "      self.current_term += 1\n",
        "      return self.b # Returns 1\n",
        "\n",
        "    # Calculate the next number\n",
        "    fib_next = self.a + self.b\n",
        "    self.a, self.b = self.b, fib_next # Update a and b for the next iteration\n",
        "    self.current_term += 1\n",
        "    return fib_next\n",
        "\n",
        "# Example usage:\n",
        "fib_seq = FibonacciIterator(max_terms=8)\n",
        "print(\"Fibonacci Sequence (8 terms):\")\n",
        "for num in fib_seq:\n",
        "  print(num, end=\" \") # Output: 0 1 1 2 3 5 8 13\n",
        "print()"
      ],
      "metadata": {
        "colab": {
          "base_uri": "https://localhost:8080/"
        },
        "id": "obFMtgoT-0cr",
        "outputId": "9844effc-6ea2-4e19-d314-b16c37ff8db5"
      },
      "execution_count": null,
      "outputs": [
        {
          "output_type": "stream",
          "name": "stdout",
          "text": [
            "Fibonacci Sequence (8 terms):\n",
            "0 1 1 2 3 5 8 13 \n"
          ]
        }
      ]
    },
    {
      "cell_type": "markdown",
      "source": [
        " 6. Write a generator function in Python that yields the powers of 2 up to a given exponent."
      ],
      "metadata": {
        "id": "kVwWbKIe-4Xk"
      }
    },
    {
      "cell_type": "code",
      "source": [
        "def power_of_two_generator(max_exponent):\n",
        "  \"\"\"A generator that yields powers of 2 (2**0, 2**1, ..., 2**max_exponent).\"\"\"\n",
        "  for exponent in range(max_exponent + 1):\n",
        "    yield 2 ** exponent # 'yield' makes this a generator\n",
        "\n",
        "# Example usage:\n",
        "powers = power_of_two_generator(max_exponent=5)\n",
        "print(\"Powers of 2 (up to 2^5):\")\n",
        "# Generators can be iterated over\n",
        "print(list(powers)) # Output: [1, 2, 4, 8, 16, 32]"
      ],
      "metadata": {
        "colab": {
          "base_uri": "https://localhost:8080/"
        },
        "id": "bWloByvc_Cj1",
        "outputId": "9b47df33-43d9-473e-aa18-33ad44c7ebd1"
      },
      "execution_count": null,
      "outputs": [
        {
          "output_type": "stream",
          "name": "stdout",
          "text": [
            "Powers of 2 (up to 2^5):\n",
            "[1, 2, 4, 8, 16, 32]\n"
          ]
        }
      ]
    },
    {
      "cell_type": "markdown",
      "source": [
        "7. Implement a generator function that reads a file line by line and yields each line as a string."
      ],
      "metadata": {
        "id": "cn1oiN-u_Fa5"
      }
    },
    {
      "cell_type": "code",
      "source": [
        "import os\n",
        "\n",
        "# --- Create a dummy file for demonstration ---\n",
        "file_name = \"sample_file.txt\"\n",
        "with open(file_name, \"w\") as f:\n",
        "    f.write(\"First line of text.\\n\")\n",
        "    f.write(\"Second line is here.\\n\")\n",
        "    f.write(\"Third and final line.\\n\")\n",
        "# ---------------------------------------------\n",
        "\n",
        "def file_line_generator(filename):\n",
        "  \"\"\"A generator that reads a file line by line.\"\"\"\n",
        "  try:\n",
        "    with open(filename, 'r') as file:\n",
        "      for line in file:\n",
        "        yield line.strip() # .strip() removes leading/trailing whitespace, including newline characters\n",
        "  except FileNotFoundError:\n",
        "    print(f\"Error: File '{filename}' not found.\")\n",
        "\n",
        "# Example usage:\n",
        "line_gen = file_line_generator(file_name)\n",
        "print(\"Reading file line by line:\")\n",
        "for line in line_gen:\n",
        "  print(f\"-> {line}\")\n",
        "\n",
        "# --- Clean up the dummy file ---\n",
        "os.remove(file_name)\n",
        "# -------------------------------"
      ],
      "metadata": {
        "colab": {
          "base_uri": "https://localhost:8080/"
        },
        "id": "n6oX3F-O_dEl",
        "outputId": "f92cab5f-6a06-4fee-92f8-67b6a5c25582"
      },
      "execution_count": null,
      "outputs": [
        {
          "output_type": "stream",
          "name": "stdout",
          "text": [
            "Reading file line by line:\n",
            "-> First line of text.\n",
            "-> Second line is here.\n",
            "-> Third and final line.\n"
          ]
        }
      ]
    },
    {
      "cell_type": "markdown",
      "source": [
        "8. Use a lambda function in Python to sort a list of tuples based on the second element of each tuple."
      ],
      "metadata": {
        "id": "A2IqMatyBbuO"
      }
    },
    {
      "cell_type": "code",
      "source": [
        "list_of_tuples = [('apple', 5), ('banana', 2), ('cherry', 8), ('date', 1)]\n",
        "\n",
        "# Sort the list using a lambda function as the 'key'\n",
        "# The lambda function takes one argument (a tuple 'x') and returns the element at index 1 (the second element, which is the number)\n",
        "sorted_list = sorted(list_of_tuples, key=lambda x: x[1])\n",
        "\n",
        "print(f\"Original list: {list_of_tuples}\")\n",
        "print(f\"Sorted by second element: {sorted_list}\")\n",
        "# Output: [('date', 1), ('banana', 2), ('apple', 5), ('cherry', 8)]"
      ],
      "metadata": {
        "colab": {
          "base_uri": "https://localhost:8080/"
        },
        "id": "utmgw9v2Bon_",
        "outputId": "8f2d5f3e-b1a3-44af-bf93-ba06b8c2a153"
      },
      "execution_count": null,
      "outputs": [
        {
          "output_type": "stream",
          "name": "stdout",
          "text": [
            "Original list: [('apple', 5), ('banana', 2), ('cherry', 8), ('date', 1)]\n",
            "Sorted by second element: [('date', 1), ('banana', 2), ('apple', 5), ('cherry', 8)]\n"
          ]
        }
      ]
    },
    {
      "cell_type": "markdown",
      "source": [
        "9. Write a Python program that uses map() to convert a list of temperatures from Celsius to Fahrenheit."
      ],
      "metadata": {
        "id": "egx6N_2pB4zq"
      }
    },
    {
      "cell_type": "code",
      "source": [
        "celsius_temps = [0, 10, 25, 40]\n",
        "\n",
        "# Define the conversion function\n",
        "def celsius_to_fahrenheit(c):\n",
        "  return (c * 9/5) + 32\n",
        "\n",
        "# Use map() to apply the function to every element in the list\n",
        "# map() returns a map object, so we convert it back to a list\n",
        "fahrenheit_temps = list(map(celsius_to_fahrenheit, celsius_temps))\n",
        "\n",
        "print(f\"Celsius Temperatures: {celsius_temps}\")\n",
        "print(f\"Fahrenheit Temperatures: {fahrenheit_temps}\")\n",
        "# Output: [32.0, 50.0, 77.0, 104.0]"
      ],
      "metadata": {
        "colab": {
          "base_uri": "https://localhost:8080/"
        },
        "id": "63wg4E4LCLnJ",
        "outputId": "8f272cf6-02bb-4519-acb7-8f55486001dc"
      },
      "execution_count": null,
      "outputs": [
        {
          "output_type": "stream",
          "name": "stdout",
          "text": [
            "Celsius Temperatures: [0, 10, 25, 40]\n",
            "Fahrenheit Temperatures: [32.0, 50.0, 77.0, 104.0]\n"
          ]
        }
      ]
    },
    {
      "cell_type": "markdown",
      "source": [
        "10. Create a Python program that uses filter() to remove all the vowels from a given string."
      ],
      "metadata": {
        "id": "GZb1JsthCSlP"
      }
    },
    {
      "cell_type": "code",
      "source": [
        "my_string = \"A quick brown fox jumps over the lazy dog\"\n",
        "vowels = \"aeiouAEIOU\"\n",
        "\n",
        "# Define a function to check if a character is a consonant (i.e., NOT a vowel)\n",
        "def is_consonant(char):\n",
        "  return char not in vowels\n",
        "\n",
        "# Use filter() to keep only the characters for which is_consonant returns True\n",
        "# filter() returns a filter object, which we join back into a string\n",
        "consonants_list = list(filter(is_consonant, my_string))\n",
        "result_string = \"\".join(consonants_list)\n",
        "\n",
        "print(f\"Original string: {my_string}\")\n",
        "print(f\"String without vowels: {result_string}\")\n",
        "# Output: \" qck brwn fx jmps vr th lzy dg\""
      ],
      "metadata": {
        "colab": {
          "base_uri": "https://localhost:8080/"
        },
        "id": "ayvVKR8uCbpn",
        "outputId": "a011908e-41f4-4a93-81aa-47755e1aeb27"
      },
      "execution_count": null,
      "outputs": [
        {
          "output_type": "stream",
          "name": "stdout",
          "text": [
            "Original string: A quick brown fox jumps over the lazy dog\n",
            "String without vowels:  qck brwn fx jmps vr th lzy dg\n"
          ]
        }
      ]
    },
    {
      "cell_type": "markdown",
      "source": [
        "11. Imagine an accounting routine used in a book shop.It works on a list with sublists, which look like this:\n",
        " Write a Python program, which returns a list with 2-tuples. Each tuple consists of the order number and the product of the price per item and the quantity. The product should be increased by 10.−€ if the value of the order is smaller than 100.00€.\n",
        "Write a Python program using lambda and map."
      ],
      "metadata": {
        "id": "p1hIIfAHT629"
      }
    },
    {
      "cell_type": "code",
      "source": [
        "book_shop_data = [\n",
        "    ['Order Number', 'Book title and Author', 'Quantity', 'Price per Item'],\n",
        "    [94587, 'Learning Python, Mark Lutz', 5, 48.99],\n",
        "    [58721, 'Programming Python, M. Lutz', 3, 52.80],\n",
        "    [77226, 'Head First Python, Paul Barry', 5, 32.49],\n",
        "    [88112, 'Einführung In Python3, Bernd Klein', 3, 24.99]\n",
        "]\n",
        "\n",
        "# Extract the data rows (excluding the header)\n",
        "data_rows = book_shop_data[1:]\n",
        "\n",
        "# Define the lambda function for the map operation\n",
        "# x is a data row, e.g., [94587, 'Learning Python, Mark Lutz', 5, 48.99]\n",
        "calculate_order_value = lambda x: (\n",
        "    x[0], # Order Number\n",
        "    (x[2] * x[3]) + (10.00 if (x[2] * x[3]) < 100.00 else 0.00)\n",
        "    # Product (Quantity * Price) + conditional €10 increase\n",
        ")\n",
        "\n",
        "# Use map() to apply the lambda function to all data rows\n",
        "order_values = list(map(calculate_order_value, data_rows))\n",
        "\n",
        "print(\"Order Number and Adjusted Order Value (Product + Conditional €10):\")\n",
        "# Note: The output uses float numbers for the price\n",
        "for order in order_values:\n",
        "    print(f\"Order: {order[0]}, Value: {order[1]:.2f} €\")\n",
        "# Output:\n",
        "# Order: 94587, Value: 244.95 € (5 * 48.99 = 244.95, no increase)\n",
        "# Order: 58721, Value: 167.40 € (3 * 52.80 = 158.40, no increase)\n",
        "# Order: 77226, Value: 162.45 € (5 * 32.49 = 162.45, no increase)\n",
        "# Order: 88112, Value: 84.97 € (3 * 24.99 = 74.97, LESS THAN 100, +10.00 increase)"
      ],
      "metadata": {
        "id": "lGly_ACTXZQF",
        "colab": {
          "base_uri": "https://localhost:8080/"
        },
        "outputId": "2b4c2c12-c851-444a-c54d-66d219c89588"
      },
      "execution_count": 10,
      "outputs": [
        {
          "output_type": "stream",
          "name": "stdout",
          "text": [
            "Order Number and Adjusted Order Value (Product + Conditional €10):\n",
            "Order: 94587, Value: 244.95 €\n",
            "Order: 58721, Value: 158.40 €\n",
            "Order: 77226, Value: 162.45 €\n",
            "Order: 88112, Value: 84.97 €\n"
          ]
        }
      ]
    }
  ]
}